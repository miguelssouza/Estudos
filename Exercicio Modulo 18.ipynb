{
 "cells": [
  {
   "cell_type": "markdown",
   "id": "4de75275-d25f-4287-9bb4-4f766c6be673",
   "metadata": {
    "tags": []
   },
   "source": [
    "## Git"
   ]
  },
  {
   "cell_type": "code",
   "execution_count": 30,
   "id": "2c6be84b-d96d-4988-87c8-33dfe56b8353",
   "metadata": {},
   "outputs": [
    {
     "name": "stdin",
     "output_type": "stream",
     "text": [
      " ········\n"
     ]
    }
   ],
   "source": [
    "import os\n",
    "from getpass import getpass\n",
    "\n",
    "usermail = getpass()\n",
    "os.environ[\"GITHUB_MAIL\"] = usermail\n",
    "\n",
    "!git config --global user.email \"${GITHUB_MAIL}\""
   ]
  },
  {
   "cell_type": "code",
   "execution_count": 31,
   "id": "5d897e88-1b78-42c1-a6cb-b91daa767d27",
   "metadata": {},
   "outputs": [],
   "source": [
    "import os\n",
    "\n",
    "username = \"miguelssouza\"\n",
    "os.environ[\"GITHUB_USER\"] = username\n",
    "\n",
    "!git config --global user.name \"${GITHUB_USER}\""
   ]
  },
  {
   "cell_type": "code",
   "execution_count": 32,
   "id": "a4382f80-7ca3-4428-b33c-975955bbbdab",
   "metadata": {},
   "outputs": [
    {
     "name": "stdin",
     "output_type": "stream",
     "text": [
      " ········\n"
     ]
    }
   ],
   "source": [
    "import os\n",
    "from getpass import getpass\n",
    "\n",
    "usertoken = getpass()\n",
    "os.environ[\"GITHUB_TOKEN\"] = usertoken"
   ]
  },
  {
   "cell_type": "markdown",
   "id": "21f46513-ddd9-4db5-a34f-e1a9aee9b682",
   "metadata": {
    "jp-MarkdownHeadingCollapsed": true,
    "tags": []
   },
   "source": [
    "## Importação de Modulos"
   ]
  },
  {
   "cell_type": "code",
   "execution_count": 28,
   "id": "2a904d81-425b-4fa7-9516-afbafa5b5d26",
   "metadata": {},
   "outputs": [],
   "source": [
    "import pandas as pd\n",
    "import seaborn as sns\n",
    "from matplotlib import pyplot as plt"
   ]
  },
  {
   "cell_type": "code",
   "execution_count": 4,
   "id": "a2f36670-785a-4f81-baae-2d0de9279338",
   "metadata": {},
   "outputs": [],
   "source": [
    "df_gasolina = pd.read_csv(\"./gasolina.csv\")"
   ]
  },
  {
   "cell_type": "markdown",
   "id": "9483df24-dbf6-4cfd-874f-f4a42b4e703b",
   "metadata": {
    "jp-MarkdownHeadingCollapsed": true,
    "tags": []
   },
   "source": [
    "## Exploração dados"
   ]
  },
  {
   "cell_type": "markdown",
   "id": "c6ad0d79-a045-4d9b-ae14-45c9177d9cbe",
   "metadata": {
    "tags": []
   },
   "source": [
    "### Extração dos Dados"
   ]
  },
  {
   "cell_type": "code",
   "execution_count": 6,
   "id": "0f78f18f-a75c-4755-a31e-2e88b1a59cb3",
   "metadata": {},
   "outputs": [
    {
     "data": {
      "text/html": [
       "<div>\n",
       "<style scoped>\n",
       "    .dataframe tbody tr th:only-of-type {\n",
       "        vertical-align: middle;\n",
       "    }\n",
       "\n",
       "    .dataframe tbody tr th {\n",
       "        vertical-align: top;\n",
       "    }\n",
       "\n",
       "    .dataframe thead th {\n",
       "        text-align: right;\n",
       "    }\n",
       "</style>\n",
       "<table border=\"1\" class=\"dataframe\">\n",
       "  <thead>\n",
       "    <tr style=\"text-align: right;\">\n",
       "      <th></th>\n",
       "      <th>dia</th>\n",
       "      <th>venda</th>\n",
       "    </tr>\n",
       "  </thead>\n",
       "  <tbody>\n",
       "    <tr>\n",
       "      <th>0</th>\n",
       "      <td>1</td>\n",
       "      <td>5.11</td>\n",
       "    </tr>\n",
       "    <tr>\n",
       "      <th>1</th>\n",
       "      <td>2</td>\n",
       "      <td>4.99</td>\n",
       "    </tr>\n",
       "    <tr>\n",
       "      <th>2</th>\n",
       "      <td>3</td>\n",
       "      <td>5.02</td>\n",
       "    </tr>\n",
       "    <tr>\n",
       "      <th>3</th>\n",
       "      <td>4</td>\n",
       "      <td>5.21</td>\n",
       "    </tr>\n",
       "    <tr>\n",
       "      <th>4</th>\n",
       "      <td>5</td>\n",
       "      <td>5.07</td>\n",
       "    </tr>\n",
       "  </tbody>\n",
       "</table>\n",
       "</div>"
      ],
      "text/plain": [
       "   dia  venda\n",
       "0    1   5.11\n",
       "1    2   4.99\n",
       "2    3   5.02\n",
       "3    4   5.21\n",
       "4    5   5.07"
      ]
     },
     "execution_count": 6,
     "metadata": {},
     "output_type": "execute_result"
    }
   ],
   "source": [
    "df_gasolina.head()"
   ]
  },
  {
   "cell_type": "code",
   "execution_count": 8,
   "id": "611f44f8-3846-4a78-be33-cb2e7b72efda",
   "metadata": {},
   "outputs": [
    {
     "name": "stdout",
     "output_type": "stream",
     "text": [
      "<class 'pandas.core.frame.DataFrame'>\n",
      "RangeIndex: 10 entries, 0 to 9\n",
      "Data columns (total 2 columns):\n",
      " #   Column  Non-Null Count  Dtype  \n",
      "---  ------  --------------  -----  \n",
      " 0   dia     10 non-null     int64  \n",
      " 1   venda   10 non-null     float64\n",
      "dtypes: float64(1), int64(1)\n",
      "memory usage: 288.0 bytes\n"
     ]
    }
   ],
   "source": [
    "df_gasolina.info()"
   ]
  },
  {
   "cell_type": "markdown",
   "id": "03ecba63-4b52-47f5-855f-ba6dc49ca34e",
   "metadata": {
    "jp-MarkdownHeadingCollapsed": true,
    "tags": []
   },
   "source": [
    "### Estrutura e Schema"
   ]
  },
  {
   "cell_type": "code",
   "execution_count": 11,
   "id": "8cc18998-aed5-4337-94c7-bdeef6ec7add",
   "metadata": {},
   "outputs": [
    {
     "data": {
      "text/html": [
       "<div>\n",
       "<style scoped>\n",
       "    .dataframe tbody tr th:only-of-type {\n",
       "        vertical-align: middle;\n",
       "    }\n",
       "\n",
       "    .dataframe tbody tr th {\n",
       "        vertical-align: top;\n",
       "    }\n",
       "\n",
       "    .dataframe thead th {\n",
       "        text-align: right;\n",
       "    }\n",
       "</style>\n",
       "<table border=\"1\" class=\"dataframe\">\n",
       "  <thead>\n",
       "    <tr style=\"text-align: right;\">\n",
       "      <th></th>\n",
       "      <th>count</th>\n",
       "      <th>mean</th>\n",
       "      <th>std</th>\n",
       "      <th>min</th>\n",
       "      <th>25%</th>\n",
       "      <th>50%</th>\n",
       "      <th>75%</th>\n",
       "      <th>max</th>\n",
       "    </tr>\n",
       "  </thead>\n",
       "  <tbody>\n",
       "    <tr>\n",
       "      <th>dia</th>\n",
       "      <td>10.0</td>\n",
       "      <td>5.500</td>\n",
       "      <td>3.027650</td>\n",
       "      <td>1.00</td>\n",
       "      <td>3.2500</td>\n",
       "      <td>5.50</td>\n",
       "      <td>7.7500</td>\n",
       "      <td>10.00</td>\n",
       "    </tr>\n",
       "    <tr>\n",
       "      <th>venda</th>\n",
       "      <td>10.0</td>\n",
       "      <td>5.071</td>\n",
       "      <td>0.078238</td>\n",
       "      <td>4.94</td>\n",
       "      <td>5.0225</td>\n",
       "      <td>5.08</td>\n",
       "      <td>5.1175</td>\n",
       "      <td>5.21</td>\n",
       "    </tr>\n",
       "  </tbody>\n",
       "</table>\n",
       "</div>"
      ],
      "text/plain": [
       "       count   mean       std   min     25%   50%     75%    max\n",
       "dia     10.0  5.500  3.027650  1.00  3.2500  5.50  7.7500  10.00\n",
       "venda   10.0  5.071  0.078238  4.94  5.0225  5.08  5.1175   5.21"
      ]
     },
     "execution_count": 11,
     "metadata": {},
     "output_type": "execute_result"
    }
   ],
   "source": [
    "df_gasolina.describe().transpose()"
   ]
  },
  {
   "cell_type": "code",
   "execution_count": 9,
   "id": "8b07aead-03a2-45be-9702-5df8da38f279",
   "metadata": {},
   "outputs": [
    {
     "data": {
      "text/plain": [
       "dia        int64\n",
       "venda    float64\n",
       "dtype: object"
      ]
     },
     "execution_count": 9,
     "metadata": {},
     "output_type": "execute_result"
    }
   ],
   "source": [
    "df_gasolina.dtypes"
   ]
  },
  {
   "cell_type": "markdown",
   "id": "223edf18-3c9a-4156-a7fc-f53b3611440e",
   "metadata": {
    "tags": []
   },
   "source": [
    "### Data Cleaning"
   ]
  },
  {
   "cell_type": "code",
   "execution_count": 13,
   "id": "3735b9dd-b1e6-42a1-b164-b18fc8ac65f6",
   "metadata": {},
   "outputs": [
    {
     "data": {
      "text/plain": [
       "dia      0\n",
       "venda    0\n",
       "dtype: int64"
      ]
     },
     "execution_count": 13,
     "metadata": {},
     "output_type": "execute_result"
    }
   ],
   "source": [
    "df_gasolina.isna().sum()"
   ]
  },
  {
   "cell_type": "code",
   "execution_count": 17,
   "id": "c89e9ac6-4b2e-4284-811e-5d595f8d42b6",
   "metadata": {},
   "outputs": [
    {
     "data": {
      "text/plain": [
       "0"
      ]
     },
     "execution_count": 17,
     "metadata": {},
     "output_type": "execute_result"
    }
   ],
   "source": [
    "df_gasolina.duplicated().sum()"
   ]
  },
  {
   "cell_type": "markdown",
   "id": "3f1b5d1d-53f5-4554-817d-72ed2af0bc35",
   "metadata": {
    "tags": []
   },
   "source": [
    "## Visualizações"
   ]
  },
  {
   "cell_type": "code",
   "execution_count": 29,
   "id": "476da165-7c72-4893-9ebe-69ac40e0acce",
   "metadata": {},
   "outputs": [
    {
     "data": {
      "image/png": "[encoded data removed]",
      "text/plain": [
       "<Figure size 640x480 with 1 Axes>"
      ]
     },
     "metadata": {},
     "output_type": "display_data"
    }
   ],
   "source": [
    "sns.lineplot(data=df_gasolina,x=\"dia\",y=\"venda\",markers=True)\n",
    "plt.savefig('gasolina.png')"
   ]
  },
  {
   "cell_type": "code",
   "execution_count": 33,
   "id": "099e2c1f-764b-4c9a-9501-1f3bc6f6dd4f",
   "metadata": {},
   "outputs": [
    {
     "name": "stdout",
     "output_type": "stream",
     "text": [
      "On branch main\n",
      "Your branch is behind 'origin/main' by 1 commit, and can be fast-forwarded.\n",
      "  (use \"git pull\" to update your local branch)\n",
      "\n",
      "Untracked files:\n",
      "  (use \"git add <file>...\" to include in what will be committed)\n",
      "\t.ipynb_checkpoints/\n",
      "\tExercicio Modulo 18.ipynb\n",
      "\t\"Exerc\\303\\255cio Modulo 17.ipynb\"\n",
      "\tModulo 18.ipynb\n",
      "\tda-ebac/\n",
      "\tgasolina.csv\n",
      "\tgasolina.png\n",
      "\n",
      "nothing added to commit but untracked files present (use \"git add\" to track)\n"
     ]
    }
   ],
   "source": [
    "!git status"
   ]
  },
  {
   "cell_type": "code",
   "execution_count": null,
   "id": "022de7da-f156-4470-8642-3070d3ec8f14",
   "metadata": {},
   "outputs": [],
   "source": [
    "! "
   ]
  }
 ],
 "metadata": {
  "kernelspec": {
   "display_name": "Python 3 (ipykernel)",
   "language": "python",
   "name": "python3"
  },
  "language_info": {
   "codemirror_mode": {
    "name": "ipython",
    "version": 3
   },
   "file_extension": ".py",
   "mimetype": "text/x-python",
   "name": "python",
   "nbconvert_exporter": "python",
   "pygments_lexer": "ipython3",
   "version": "3.10.9"
  }
 },
 "nbformat": 4,
 "nbformat_minor": 5
}
